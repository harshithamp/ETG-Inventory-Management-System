{
  "nbformat": 4,
  "nbformat_minor": 0,
  "metadata": {
    "colab": {
      "name": "AddingNewItems.ipynb",
      "provenance": [],
      "collapsed_sections": []
    },
    "kernelspec": {
      "name": "python3",
      "display_name": "Python 3"
    },
    "language_info": {
      "name": "python"
    }
  },
  "cells": [
    {
      "cell_type": "markdown",
      "metadata": {
        "id": "kAUdN5WpRFmA"
      },
      "source": [
        " **INVENTORY LIST** "
      ]
    },
    {
      "cell_type": "code",
      "metadata": {
        "id": "Vf1ieol9Eq8v"
      },
      "source": [
        "record={1001:{'name':'lays','exp':'02/22','Rs':10,'quantity':50},\n",
        "        1002:{'name':'bingo','exp':'02/22','Rs':10,'quantity':50},\n",
        "        1003:{'name':'kit kat','exp':'02/22','Rs':10,'quantity':50},\n",
        "        1004:{'name':'bar one','exp':'02/22','Rs':10,'quantity':50},\n",
        "        1005:{'name':'kurkure','exp':'02/22','Rs':10,'quantity':50},\n",
        "        1006:{'name':'munch','exp':'02/22','Rs':10,'quantity':50},\n",
        "        1007:{'name':'preak','exp':'02/22','Rs':10,'quantity':50},\n",
        "        1008:{'name':'dairy milk','exp':'02/22','Rs':10,'quantity':50},\n",
        "        1009:{'name':'dairy milk silk','exp':'02/22','Rs':100,'quantity':50},\n",
        "        1010:{'name':'dairy milk crackle','exp':'02/22','Rs':40,'quantity':50},\n",
        "        1011:{'name':'tomato','exp':'02/22','Rs':20,'quantity':50},\n",
        "        1012:{'name':'onion','exp':'02/22','Rs':30,'quantity':50},\n",
        "        1013:{'name':'potato','exp':'02/22','Rs':30,'quantity':50},\n",
        "        1014:{'name':'cabbage','exp':'02/22','Rs':10,'quantity':50},\n",
        "        1015:{'name':'nail polish','exp':'02/22','Rs':100,'quantity':50},\n",
        "        1016:{'name':'mint leaves','exp':'02/22','Rs':10,'quantity':50},\n",
        "        1017:{'name':'salt','exp':'02/22','Rs':20,'quantity':50},\n",
        "        1018:{'name':'sugar','exp':'02/22','Rs':60,'quantity':50},\n",
        "        1019:{'name':'lemon','exp':'02/22','Rs':5,'quantity':50},\n",
        "        1020:{'name':'apple','exp':'02/22','Rs':100,'quantity':50},\n",
        "        1021:{'name':'mango','exp':'02/22','Rs':100,'quantity':50},\n",
        "        1022:{'name':'pine apple','exp':'02/22','Rs':50,'quantity':50},\n",
        "        1023:{'name':'jack fruit','exp':'02/22','Rs':50,'quantity':50},\n",
        "        1024:{'name':'orange','exp':'02/22','Rs':100,'quantity':50},\n",
        "        1025:{'name':'baby corn','exp':'02/22','Rs':10,'quantity':50},\n",
        "        1026:{'name':'sweet corn','exp':'02/22','Rs':10,'quantity':50},\n",
        "        1027:{'name':'rice','exp':'02/22','Rs':50,'quantity':50},\n",
        "        1028:{'name':'wheat','exp':'02/22','Rs':50,'quantity':50},\n",
        "        1029:{'name':'madia','exp':'02/22','Rs':40,'quantity':50},\n",
        "        1030:{'name':'tic tac','exp':'02/22','Rs':10,'quantity':50}}\n"
      ],
      "execution_count": 2,
      "outputs": []
    },
    {
      "cell_type": "code",
      "metadata": {
        "id": "20oHxYoogNy9"
      },
      "source": [
        "import json"
      ],
      "execution_count": 3,
      "outputs": []
    },
    {
      "cell_type": "code",
      "metadata": {
        "id": "8x3q_UQ4gWNB"
      },
      "source": [
        "js =json.dumps(record)"
      ],
      "execution_count": 4,
      "outputs": []
    },
    {
      "cell_type": "code",
      "metadata": {
        "colab": {
          "base_uri": "https://localhost:8080/",
          "height": 171
        },
        "id": "akEoy_7igssM",
        "outputId": "3285ba71-dbb3-4111-90cd-002ad657758c"
      },
      "source": [
        "js"
      ],
      "execution_count": 5,
      "outputs": [
        {
          "output_type": "execute_result",
          "data": {
            "application/vnd.google.colaboratory.intrinsic+json": {
              "type": "string"
            },
            "text/plain": [
              "'{\"1001\": {\"name\": \"lays\", \"exp\": \"02/22\", \"Rs\": 10, \"quantity\": 50}, \"1002\": {\"name\": \"bingo\", \"exp\": \"02/22\", \"Rs\": 10, \"quantity\": 50}, \"1003\": {\"name\": \"kit kat\", \"exp\": \"02/22\", \"Rs\": 10, \"quantity\": 50}, \"1004\": {\"name\": \"bar one\", \"exp\": \"02/22\", \"Rs\": 10, \"quantity\": 50}, \"1005\": {\"name\": \"kurkure\", \"exp\": \"02/22\", \"Rs\": 10, \"quantity\": 50}, \"1006\": {\"name\": \"munch\", \"exp\": \"02/22\", \"Rs\": 10, \"quantity\": 50}, \"1007\": {\"name\": \"preak\", \"exp\": \"02/22\", \"Rs\": 10, \"quantity\": 50}, \"1008\": {\"name\": \"dairy milk\", \"exp\": \"02/22\", \"Rs\": 10, \"quantity\": 50}, \"1009\": {\"name\": \"dairy milk silk\", \"exp\": \"02/22\", \"Rs\": 100, \"quantity\": 50}, \"1010\": {\"name\": \"dairy milk crackle\", \"exp\": \"02/22\", \"Rs\": 40, \"quantity\": 50}, \"1011\": {\"name\": \"tomato\", \"exp\": \"02/22\", \"Rs\": 20, \"quantity\": 50}, \"1012\": {\"name\": \"onion\", \"exp\": \"02/22\", \"Rs\": 30, \"quantity\": 50}, \"1013\": {\"name\": \"potato\", \"exp\": \"02/22\", \"Rs\": 30, \"quantity\": 50}, \"1014\": {\"name\": \"cabbage\", \"exp\": \"02/22\", \"Rs\": 10, \"quantity\": 50}, \"1015\": {\"name\": \"nail polish\", \"exp\": \"02/22\", \"Rs\": 100, \"quantity\": 50}, \"1016\": {\"name\": \"mint leaves\", \"exp\": \"02/22\", \"Rs\": 10, \"quantity\": 50}, \"1017\": {\"name\": \"salt\", \"exp\": \"02/22\", \"Rs\": 20, \"quantity\": 50}, \"1018\": {\"name\": \"sugar\", \"exp\": \"02/22\", \"Rs\": 60, \"quantity\": 50}, \"1019\": {\"name\": \"lemon\", \"exp\": \"02/22\", \"Rs\": 5, \"quantity\": 50}, \"1020\": {\"name\": \"apple\", \"exp\": \"02/22\", \"Rs\": 100, \"quantity\": 50}, \"1021\": {\"name\": \"mango\", \"exp\": \"02/22\", \"Rs\": 100, \"quantity\": 50}, \"1022\": {\"name\": \"pine apple\", \"exp\": \"02/22\", \"Rs\": 50, \"quantity\": 50}, \"1023\": {\"name\": \"jack fruit\", \"exp\": \"02/22\", \"Rs\": 50, \"quantity\": 50}, \"1024\": {\"name\": \"orange\", \"exp\": \"02/22\", \"Rs\": 100, \"quantity\": 50}, \"1025\": {\"name\": \"baby corn\", \"exp\": \"02/22\", \"Rs\": 10, \"quantity\": 50}, \"1026\": {\"name\": \"sweet corn\", \"exp\": \"02/22\", \"Rs\": 10, \"quantity\": 50}, \"1027\": {\"name\": \"rice\", \"exp\": \"02/22\", \"Rs\": 50, \"quantity\": 50}, \"1028\": {\"name\": \"wheat\", \"exp\": \"02/22\", \"Rs\": 50, \"quantity\": 50}, \"1029\": {\"name\": \"madia\", \"exp\": \"02/22\", \"Rs\": 40, \"quantity\": 50}, \"1030\": {\"name\": \"tic tac\", \"exp\": \"02/22\", \"Rs\": 10, \"quantity\": 50}}'"
            ]
          },
          "metadata": {},
          "execution_count": 5
        }
      ]
    },
    {
      "cell_type": "code",
      "metadata": {
        "id": "DkmUl67uH7Bf"
      },
      "source": [
        "fd=open(\"record.json\",'w')\n",
        "fd.write(js)\n",
        "fd.close()"
      ],
      "execution_count": 6,
      "outputs": []
    },
    {
      "cell_type": "code",
      "metadata": {
        "id": "4e_bDYbhhKPu"
      },
      "source": [
        "fd = open(\"record.json\",'r')\n",
        "txt=fd.read()\n",
        "fd.close()"
      ],
      "execution_count": 7,
      "outputs": []
    },
    {
      "cell_type": "code",
      "metadata": {
        "id": "rzLvL8gShptb"
      },
      "source": [
        "record=json.loads(txt)"
      ],
      "execution_count": 8,
      "outputs": []
    },
    {
      "cell_type": "code",
      "metadata": {
        "colab": {
          "base_uri": "https://localhost:8080/",
          "height": 171
        },
        "id": "KnrRD080h_3W",
        "outputId": "ee786299-0a9a-4824-f209-bfad35dbb781"
      },
      "source": [
        "txt\n"
      ],
      "execution_count": 9,
      "outputs": [
        {
          "output_type": "execute_result",
          "data": {
            "application/vnd.google.colaboratory.intrinsic+json": {
              "type": "string"
            },
            "text/plain": [
              "'{\"1001\": {\"name\": \"lays\", \"exp\": \"02/22\", \"Rs\": 10, \"quantity\": 50}, \"1002\": {\"name\": \"bingo\", \"exp\": \"02/22\", \"Rs\": 10, \"quantity\": 50}, \"1003\": {\"name\": \"kit kat\", \"exp\": \"02/22\", \"Rs\": 10, \"quantity\": 50}, \"1004\": {\"name\": \"bar one\", \"exp\": \"02/22\", \"Rs\": 10, \"quantity\": 50}, \"1005\": {\"name\": \"kurkure\", \"exp\": \"02/22\", \"Rs\": 10, \"quantity\": 50}, \"1006\": {\"name\": \"munch\", \"exp\": \"02/22\", \"Rs\": 10, \"quantity\": 50}, \"1007\": {\"name\": \"preak\", \"exp\": \"02/22\", \"Rs\": 10, \"quantity\": 50}, \"1008\": {\"name\": \"dairy milk\", \"exp\": \"02/22\", \"Rs\": 10, \"quantity\": 50}, \"1009\": {\"name\": \"dairy milk silk\", \"exp\": \"02/22\", \"Rs\": 100, \"quantity\": 50}, \"1010\": {\"name\": \"dairy milk crackle\", \"exp\": \"02/22\", \"Rs\": 40, \"quantity\": 50}, \"1011\": {\"name\": \"tomato\", \"exp\": \"02/22\", \"Rs\": 20, \"quantity\": 50}, \"1012\": {\"name\": \"onion\", \"exp\": \"02/22\", \"Rs\": 30, \"quantity\": 50}, \"1013\": {\"name\": \"potato\", \"exp\": \"02/22\", \"Rs\": 30, \"quantity\": 50}, \"1014\": {\"name\": \"cabbage\", \"exp\": \"02/22\", \"Rs\": 10, \"quantity\": 50}, \"1015\": {\"name\": \"nail polish\", \"exp\": \"02/22\", \"Rs\": 100, \"quantity\": 50}, \"1016\": {\"name\": \"mint leaves\", \"exp\": \"02/22\", \"Rs\": 10, \"quantity\": 50}, \"1017\": {\"name\": \"salt\", \"exp\": \"02/22\", \"Rs\": 20, \"quantity\": 50}, \"1018\": {\"name\": \"sugar\", \"exp\": \"02/22\", \"Rs\": 60, \"quantity\": 50}, \"1019\": {\"name\": \"lemon\", \"exp\": \"02/22\", \"Rs\": 5, \"quantity\": 50}, \"1020\": {\"name\": \"apple\", \"exp\": \"02/22\", \"Rs\": 100, \"quantity\": 50}, \"1021\": {\"name\": \"mango\", \"exp\": \"02/22\", \"Rs\": 100, \"quantity\": 50}, \"1022\": {\"name\": \"pine apple\", \"exp\": \"02/22\", \"Rs\": 50, \"quantity\": 50}, \"1023\": {\"name\": \"jack fruit\", \"exp\": \"02/22\", \"Rs\": 50, \"quantity\": 50}, \"1024\": {\"name\": \"orange\", \"exp\": \"02/22\", \"Rs\": 100, \"quantity\": 50}, \"1025\": {\"name\": \"baby corn\", \"exp\": \"02/22\", \"Rs\": 10, \"quantity\": 50}, \"1026\": {\"name\": \"sweet corn\", \"exp\": \"02/22\", \"Rs\": 10, \"quantity\": 50}, \"1027\": {\"name\": \"rice\", \"exp\": \"02/22\", \"Rs\": 50, \"quantity\": 50}, \"1028\": {\"name\": \"wheat\", \"exp\": \"02/22\", \"Rs\": 50, \"quantity\": 50}, \"1029\": {\"name\": \"madia\", \"exp\": \"02/22\", \"Rs\": 40, \"quantity\": 50}, \"1030\": {\"name\": \"tic tac\", \"exp\": \"02/22\", \"Rs\": 10, \"quantity\": 50}}'"
            ]
          },
          "metadata": {},
          "execution_count": 9
        }
      ]
    },
    {
      "cell_type": "markdown",
      "metadata": {
        "id": "q972gfjhRXuF"
      },
      "source": [
        "**ADDING NEW ITEMS TO INVENTORY**"
      ]
    },
    {
      "cell_type": "code",
      "metadata": {
        "colab": {
          "base_uri": "https://localhost:8080/"
        },
        "id": "pjGFTenKPtA1",
        "outputId": "6427a149-88b2-43bf-b77e-745b8b1a4dea"
      },
      "source": [
        "prod_id=str(input(\"enter the product id:\"))\n",
        "name=str(input(\"enter name:\"))\n",
        "exp=str(input(\"enter expire:\"))\n",
        "Rs=int(input(\"enter prize:\"))\n",
        "quantity=int(input(\"enter quantity:\"))"
      ],
      "execution_count": 12,
      "outputs": [
        {
          "name": "stdout",
          "output_type": "stream",
          "text": [
            "enter the product id:1031\n",
            "enter name:daal\n",
            "enter expire:02/25\n",
            "enter prize:120\n",
            "enter quantity:50\n"
          ]
        }
      ]
    },
    {
      "cell_type": "code",
      "metadata": {
        "id": "hyI6Wg94PzWe"
      },
      "source": [
        "record[prod_id]={'name':name,\"exp\":exp,\"Rs\":Rs,\"quantity\":quantity}"
      ],
      "execution_count": 13,
      "outputs": []
    },
    {
      "cell_type": "markdown",
      "metadata": {
        "id": "45XtJ7KGRoci"
      },
      "source": [
        "**DICTIONARY AFTER ADDING NEW ITEMS**"
      ]
    },
    {
      "cell_type": "code",
      "metadata": {
        "colab": {
          "base_uri": "https://localhost:8080/"
        },
        "id": "K8S9LIwEQYW4",
        "outputId": "e2a1b4fd-632f-4766-cba3-93ddca1f51f7"
      },
      "source": [
        "record"
      ],
      "execution_count": 14,
      "outputs": [
        {
          "output_type": "execute_result",
          "data": {
            "text/plain": [
              "{'1001': {'Rs': 10, 'exp': '02/22', 'name': 'lays', 'quantity': 50},\n",
              " '1002': {'Rs': 10, 'exp': '02/22', 'name': 'bingo', 'quantity': 50},\n",
              " '1003': {'Rs': 10, 'exp': '02/22', 'name': 'kit kat', 'quantity': 50},\n",
              " '1004': {'Rs': 10, 'exp': '02/22', 'name': 'bar one', 'quantity': 50},\n",
              " '1005': {'Rs': 10, 'exp': '02/22', 'name': 'kurkure', 'quantity': 50},\n",
              " '1006': {'Rs': 10, 'exp': '02/22', 'name': 'munch', 'quantity': 50},\n",
              " '1007': {'Rs': 10, 'exp': '02/22', 'name': 'preak', 'quantity': 50},\n",
              " '1008': {'Rs': 10, 'exp': '02/22', 'name': 'dairy milk', 'quantity': 50},\n",
              " '1009': {'Rs': 100,\n",
              "  'exp': '02/22',\n",
              "  'name': 'dairy milk silk',\n",
              "  'quantity': 50},\n",
              " '1010': {'Rs': 40,\n",
              "  'exp': '02/22',\n",
              "  'name': 'dairy milk crackle',\n",
              "  'quantity': 50},\n",
              " '1011': {'Rs': 20, 'exp': '02/22', 'name': 'tomato', 'quantity': 50},\n",
              " '1012': {'Rs': 30, 'exp': '02/22', 'name': 'onion', 'quantity': 50},\n",
              " '1013': {'Rs': 30, 'exp': '02/22', 'name': 'potato', 'quantity': 50},\n",
              " '1014': {'Rs': 10, 'exp': '02/22', 'name': 'cabbage', 'quantity': 50},\n",
              " '1015': {'Rs': 100, 'exp': '02/22', 'name': 'nail polish', 'quantity': 50},\n",
              " '1016': {'Rs': 10, 'exp': '02/22', 'name': 'mint leaves', 'quantity': 50},\n",
              " '1017': {'Rs': 20, 'exp': '02/22', 'name': 'salt', 'quantity': 50},\n",
              " '1018': {'Rs': 60, 'exp': '02/22', 'name': 'sugar', 'quantity': 50},\n",
              " '1019': {'Rs': 5, 'exp': '02/22', 'name': 'lemon', 'quantity': 50},\n",
              " '1020': {'Rs': 100, 'exp': '02/22', 'name': 'apple', 'quantity': 50},\n",
              " '1021': {'Rs': 100, 'exp': '02/22', 'name': 'mango', 'quantity': 50},\n",
              " '1022': {'Rs': 50, 'exp': '02/22', 'name': 'pine apple', 'quantity': 50},\n",
              " '1023': {'Rs': 50, 'exp': '02/22', 'name': 'jack fruit', 'quantity': 50},\n",
              " '1024': {'Rs': 100, 'exp': '02/22', 'name': 'orange', 'quantity': 50},\n",
              " '1025': {'Rs': 10, 'exp': '02/22', 'name': 'baby corn', 'quantity': 50},\n",
              " '1026': {'Rs': 10, 'exp': '02/22', 'name': 'sweet corn', 'quantity': 50},\n",
              " '1027': {'Rs': 50, 'exp': '02/22', 'name': 'rice', 'quantity': 50},\n",
              " '1028': {'Rs': 50, 'exp': '02/22', 'name': 'wheat', 'quantity': 50},\n",
              " '1029': {'Rs': 40, 'exp': '02/22', 'name': 'madia', 'quantity': 50},\n",
              " '1030': {'Rs': 10, 'exp': '02/22', 'name': 'tic tac', 'quantity': 50},\n",
              " '1031': {'Rs': 120, 'exp': '02/25', 'name': 'daal', 'quantity': 50}}"
            ]
          },
          "metadata": {},
          "execution_count": 14
        }
      ]
    },
    {
      "cell_type": "code",
      "metadata": {
        "id": "93UT_X8BQcwM"
      },
      "source": [
        "import json"
      ],
      "execution_count": 15,
      "outputs": []
    },
    {
      "cell_type": "code",
      "metadata": {
        "id": "zezhF8UaQmnN"
      },
      "source": [
        "js=json.dumps(record)"
      ],
      "execution_count": 16,
      "outputs": []
    },
    {
      "cell_type": "code",
      "metadata": {
        "colab": {
          "base_uri": "https://localhost:8080/",
          "height": 341
        },
        "id": "B2DjntvLQv5i",
        "outputId": "3e5a3a4d-267e-43ae-8980-761e2030dfcc"
      },
      "source": [
        "js\n"
      ],
      "execution_count": 17,
      "outputs": [
        {
          "output_type": "execute_result",
          "data": {
            "application/vnd.google.colaboratory.intrinsic+json": {
              "type": "string"
            },
            "text/plain": [
              "'{\"1001\": {\"name\": \"lays\", \"exp\": \"02/22\", \"Rs\": 10, \"quantity\": 50}, \"1002\": {\"name\": \"bingo\", \"exp\": \"02/22\", \"Rs\": 10, \"quantity\": 50}, \"1003\": {\"name\": \"kit kat\", \"exp\": \"02/22\", \"Rs\": 10, \"quantity\": 50}, \"1004\": {\"name\": \"bar one\", \"exp\": \"02/22\", \"Rs\": 10, \"quantity\": 50}, \"1005\": {\"name\": \"kurkure\", \"exp\": \"02/22\", \"Rs\": 10, \"quantity\": 50}, \"1006\": {\"name\": \"munch\", \"exp\": \"02/22\", \"Rs\": 10, \"quantity\": 50}, \"1007\": {\"name\": \"preak\", \"exp\": \"02/22\", \"Rs\": 10, \"quantity\": 50}, \"1008\": {\"name\": \"dairy milk\", \"exp\": \"02/22\", \"Rs\": 10, \"quantity\": 50}, \"1009\": {\"name\": \"dairy milk silk\", \"exp\": \"02/22\", \"Rs\": 100, \"quantity\": 50}, \"1010\": {\"name\": \"dairy milk crackle\", \"exp\": \"02/22\", \"Rs\": 40, \"quantity\": 50}, \"1011\": {\"name\": \"tomato\", \"exp\": \"02/22\", \"Rs\": 20, \"quantity\": 50}, \"1012\": {\"name\": \"onion\", \"exp\": \"02/22\", \"Rs\": 30, \"quantity\": 50}, \"1013\": {\"name\": \"potato\", \"exp\": \"02/22\", \"Rs\": 30, \"quantity\": 50}, \"1014\": {\"name\": \"cabbage\", \"exp\": \"02/22\", \"Rs\": 10, \"quantity\": 50}, \"1015\": {\"name\": \"nail polish\", \"exp\": \"02/22\", \"Rs\": 100, \"quantity\": 50}, \"1016\": {\"name\": \"mint leaves\", \"exp\": \"02/22\", \"Rs\": 10, \"quantity\": 50}, \"1017\": {\"name\": \"salt\", \"exp\": \"02/22\", \"Rs\": 20, \"quantity\": 50}, \"1018\": {\"name\": \"sugar\", \"exp\": \"02/22\", \"Rs\": 60, \"quantity\": 50}, \"1019\": {\"name\": \"lemon\", \"exp\": \"02/22\", \"Rs\": 5, \"quantity\": 50}, \"1020\": {\"name\": \"apple\", \"exp\": \"02/22\", \"Rs\": 100, \"quantity\": 50}, \"1021\": {\"name\": \"mango\", \"exp\": \"02/22\", \"Rs\": 100, \"quantity\": 50}, \"1022\": {\"name\": \"pine apple\", \"exp\": \"02/22\", \"Rs\": 50, \"quantity\": 50}, \"1023\": {\"name\": \"jack fruit\", \"exp\": \"02/22\", \"Rs\": 50, \"quantity\": 50}, \"1024\": {\"name\": \"orange\", \"exp\": \"02/22\", \"Rs\": 100, \"quantity\": 50}, \"1025\": {\"name\": \"baby corn\", \"exp\": \"02/22\", \"Rs\": 10, \"quantity\": 50}, \"1026\": {\"name\": \"sweet corn\", \"exp\": \"02/22\", \"Rs\": 10, \"quantity\": 50}, \"1027\": {\"name\": \"rice\", \"exp\": \"02/22\", \"Rs\": 50, \"quantity\": 50}, \"1028\": {\"name\": \"wheat\", \"exp\": \"02/22\", \"Rs\": 50, \"quantity\": 50}, \"1029\": {\"name\": \"madia\", \"exp\": \"02/22\", \"Rs\": 40, \"quantity\": 50}, \"1030\": {\"name\": \"tic tac\", \"exp\": \"02/22\", \"Rs\": 10, \"quantity\": 50}, \"1031\": {\"name\": \"daal\", \"exp\": \"02/25\", \"Rs\": 120, \"quantity\": 50}}'"
            ]
          },
          "metadata": {},
          "execution_count": 17
        }
      ]
    },
    {
      "cell_type": "code",
      "metadata": {
        "id": "KK3zp6hcQxmo"
      },
      "source": [
        "fd=open(\"record.json\",'w')\n",
        "fd.write(js)\n",
        "fd.close()"
      ],
      "execution_count": 18,
      "outputs": []
    },
    {
      "cell_type": "code",
      "metadata": {
        "id": "Dcj24ICVQ4Js"
      },
      "source": [
        "fd = open(\"record.json\",'r')\n",
        "txt=fd.read()\n",
        "fd.close()"
      ],
      "execution_count": 19,
      "outputs": []
    },
    {
      "cell_type": "code",
      "metadata": {
        "id": "doKoJ91PQ-Gv"
      },
      "source": [
        "record=json.loads(txt)"
      ],
      "execution_count": 20,
      "outputs": []
    },
    {
      "cell_type": "code",
      "metadata": {
        "colab": {
          "base_uri": "https://localhost:8080/"
        },
        "id": "sJoIB1xdQ_Zw",
        "outputId": "01c1593c-a015-4f7e-b7bc-2336576a3d6f"
      },
      "source": [
        "record"
      ],
      "execution_count": 21,
      "outputs": [
        {
          "output_type": "execute_result",
          "data": {
            "text/plain": [
              "{'1001': {'Rs': 10, 'exp': '02/22', 'name': 'lays', 'quantity': 50},\n",
              " '1002': {'Rs': 10, 'exp': '02/22', 'name': 'bingo', 'quantity': 50},\n",
              " '1003': {'Rs': 10, 'exp': '02/22', 'name': 'kit kat', 'quantity': 50},\n",
              " '1004': {'Rs': 10, 'exp': '02/22', 'name': 'bar one', 'quantity': 50},\n",
              " '1005': {'Rs': 10, 'exp': '02/22', 'name': 'kurkure', 'quantity': 50},\n",
              " '1006': {'Rs': 10, 'exp': '02/22', 'name': 'munch', 'quantity': 50},\n",
              " '1007': {'Rs': 10, 'exp': '02/22', 'name': 'preak', 'quantity': 50},\n",
              " '1008': {'Rs': 10, 'exp': '02/22', 'name': 'dairy milk', 'quantity': 50},\n",
              " '1009': {'Rs': 100,\n",
              "  'exp': '02/22',\n",
              "  'name': 'dairy milk silk',\n",
              "  'quantity': 50},\n",
              " '1010': {'Rs': 40,\n",
              "  'exp': '02/22',\n",
              "  'name': 'dairy milk crackle',\n",
              "  'quantity': 50},\n",
              " '1011': {'Rs': 20, 'exp': '02/22', 'name': 'tomato', 'quantity': 50},\n",
              " '1012': {'Rs': 30, 'exp': '02/22', 'name': 'onion', 'quantity': 50},\n",
              " '1013': {'Rs': 30, 'exp': '02/22', 'name': 'potato', 'quantity': 50},\n",
              " '1014': {'Rs': 10, 'exp': '02/22', 'name': 'cabbage', 'quantity': 50},\n",
              " '1015': {'Rs': 100, 'exp': '02/22', 'name': 'nail polish', 'quantity': 50},\n",
              " '1016': {'Rs': 10, 'exp': '02/22', 'name': 'mint leaves', 'quantity': 50},\n",
              " '1017': {'Rs': 20, 'exp': '02/22', 'name': 'salt', 'quantity': 50},\n",
              " '1018': {'Rs': 60, 'exp': '02/22', 'name': 'sugar', 'quantity': 50},\n",
              " '1019': {'Rs': 5, 'exp': '02/22', 'name': 'lemon', 'quantity': 50},\n",
              " '1020': {'Rs': 100, 'exp': '02/22', 'name': 'apple', 'quantity': 50},\n",
              " '1021': {'Rs': 100, 'exp': '02/22', 'name': 'mango', 'quantity': 50},\n",
              " '1022': {'Rs': 50, 'exp': '02/22', 'name': 'pine apple', 'quantity': 50},\n",
              " '1023': {'Rs': 50, 'exp': '02/22', 'name': 'jack fruit', 'quantity': 50},\n",
              " '1024': {'Rs': 100, 'exp': '02/22', 'name': 'orange', 'quantity': 50},\n",
              " '1025': {'Rs': 10, 'exp': '02/22', 'name': 'baby corn', 'quantity': 50},\n",
              " '1026': {'Rs': 10, 'exp': '02/22', 'name': 'sweet corn', 'quantity': 50},\n",
              " '1027': {'Rs': 50, 'exp': '02/22', 'name': 'rice', 'quantity': 50},\n",
              " '1028': {'Rs': 50, 'exp': '02/22', 'name': 'wheat', 'quantity': 50},\n",
              " '1029': {'Rs': 40, 'exp': '02/22', 'name': 'madia', 'quantity': 50},\n",
              " '1030': {'Rs': 10, 'exp': '02/22', 'name': 'tic tac', 'quantity': 50},\n",
              " '1031': {'Rs': 120, 'exp': '02/25', 'name': 'daal', 'quantity': 50}}"
            ]
          },
          "metadata": {},
          "execution_count": 21
        }
      ]
    }
  ]
}