{
  "nbformat": 4,
  "nbformat_minor": 0,
  "metadata": {
    "colab": {
      "name": "billing.ipynb",
      "provenance": [],
      "collapsed_sections": []
    },
    "kernelspec": {
      "name": "python3",
      "display_name": "Python 3"
    },
    "language_info": {
      "name": "python"
    }
  },
  "cells": [
    {
      "cell_type": "code",
      "metadata": {
        "id": "CuqwE7f-I--n"
      },
      "source": [
        "import json"
      ],
      "execution_count": 19,
      "outputs": []
    },
    {
      "cell_type": "code",
      "metadata": {
        "id": "uSZ43o86r6vg"
      },
      "source": [
        "fd=open(\"record.json\",'r')\n",
        "txt=fd.read()\n",
        "fd.close()"
      ],
      "execution_count": 20,
      "outputs": []
    },
    {
      "cell_type": "code",
      "metadata": {
        "id": "eY20p2E7sJ6w"
      },
      "source": [
        "record=json.loads(txt)"
      ],
      "execution_count": 21,
      "outputs": []
    },
    {
      "cell_type": "code",
      "metadata": {
        "colab": {
          "base_uri": "https://localhost:8080/"
        },
        "id": "GF6aWm1LsPmX",
        "outputId": "5d81ba72-8034-4fcf-9a58-d895208ae8b6"
      },
      "source": [
        "record"
      ],
      "execution_count": 22,
      "outputs": [
        {
          "output_type": "execute_result",
          "data": {
            "text/plain": [
              "{'1001': {'Rs': 10, 'exp': '02/22', 'name': 'lays', 'quantity': 50},\n",
              " '1002': {'Rs': 10, 'exp': '02/22', 'name': 'bingo', 'quantity': 50},\n",
              " '1003': {'Rs': 10, 'exp': '02/22', 'name': 'kit kat', 'quantity': 50},\n",
              " '1004': {'Rs': 10, 'exp': '02/22', 'name': 'bar one', 'quantity': 50},\n",
              " '1005': {'Rs': 10, 'exp': '02/22', 'name': 'kurkure', 'quantity': 50},\n",
              " '1006': {'Rs': 10, 'exp': '02/22', 'name': 'munch', 'quantity': 50},\n",
              " '1007': {'Rs': 10, 'exp': '02/22', 'name': 'preak', 'quantity': 50},\n",
              " '1008': {'Rs': 10, 'exp': '02/22', 'name': 'dairy milk', 'quantity': 50},\n",
              " '1009': {'Rs': 100,\n",
              "  'exp': '02/22',\n",
              "  'name': 'dairy milk silk',\n",
              "  'quantity': 50},\n",
              " '1010': {'Rs': 40,\n",
              "  'exp': '02/22',\n",
              "  'name': 'dairy milk crackle',\n",
              "  'quantity': 50},\n",
              " '1011': {'Rs': 20, 'exp': '02/22', 'name': 'tomato', 'quantity': 50},\n",
              " '1012': {'Rs': 30, 'exp': '02/22', 'name': 'onion', 'quantity': 50},\n",
              " '1013': {'Rs': 30, 'exp': '02/22', 'name': 'potato', 'quantity': 50},\n",
              " '1014': {'Rs': 10, 'exp': '02/22', 'name': 'cabbage', 'quantity': 50},\n",
              " '1015': {'Rs': 100, 'exp': '02/22', 'name': 'nail polish', 'quantity': 50},\n",
              " '1016': {'Rs': 10, 'exp': '02/22', 'name': 'mint leaves', 'quantity': 50},\n",
              " '1017': {'Rs': 20, 'exp': '02/22', 'name': 'salt', 'quantity': 50},\n",
              " '1018': {'Rs': 60, 'exp': '02/22', 'name': 'sugar', 'quantity': 50},\n",
              " '1019': {'Rs': 5, 'exp': '02/22', 'name': 'lemon', 'quantity': 50},\n",
              " '1020': {'Rs': 100, 'exp': '02/22', 'name': 'apple', 'quantity': 50},\n",
              " '1021': {'Rs': 100, 'exp': '02/22', 'name': 'mango', 'quantity': 50},\n",
              " '1022': {'Rs': 50, 'exp': '02/22', 'name': 'pine apple', 'quantity': 50},\n",
              " '1023': {'Rs': 50, 'exp': '02/22', 'name': 'jack fruit', 'quantity': 50},\n",
              " '1024': {'Rs': 100, 'exp': '02/22', 'name': 'orange', 'quantity': 50},\n",
              " '1025': {'Rs': 10, 'exp': '02/22', 'name': 'baby corn', 'quantity': 50},\n",
              " '1026': {'Rs': 10, 'exp': '02/22', 'name': 'sweet corn', 'quantity': 50},\n",
              " '1027': {'Rs': 50, 'exp': '02/22', 'name': 'rice', 'quantity': 50},\n",
              " '1028': {'Rs': 50, 'exp': '02/22', 'name': 'wheat', 'quantity': 50},\n",
              " '1029': {'Rs': 40, 'exp': '02/22', 'name': 'madia', 'quantity': 50},\n",
              " '1030': {'Rs': 10, 'exp': '02/22', 'name': 'tic tac', 'quantity': 50}}"
            ]
          },
          "metadata": {},
          "execution_count": 22
        }
      ]
    },
    {
      "cell_type": "markdown",
      "metadata": {
        "id": "rOVaE_7HR3Db"
      },
      "source": [
        "**BILLING**"
      ]
    },
    {
      "cell_type": "code",
      "metadata": {
        "colab": {
          "base_uri": "https://localhost:8080/"
        },
        "id": "Qe8JxKJJnFNv",
        "outputId": "962baa37-29d8-4c3a-8ac3-ed3ba4aebc8b"
      },
      "source": [
        "ui_prod=input(\"enter the product id:\")\n",
        "ui_quan=int(input(\"enter the quanity:\"))\n",
        "\n",
        "\n",
        "for x,y in record[ui_prod].items():\n",
        " if(ui_prod>str(1000) and ui_prod<str(1031)):\n",
        "  cus_name=input(\"enter the name of the customer:\")\n",
        "  print(\"      mega mart      \")\n",
        "  print(\"------------------------\")\n",
        "  print(\"************************\")\n",
        "  print(\"customer name:\"+cus_name)\n",
        "  print('Product:',x,y)\n",
        "  print('Quantity:'+str(ui_quan))\n",
        "  print('Prize:'+str(record[ui_prod]['Rs']))\n",
        "  print(\"--------------------------\")\n",
        "  total=(record[ui_prod]['Rs']*ui_quan)\n",
        "  print(\"total amount :\"+str(total))\n",
        "  print(\"----------------------------\")\n",
        "  record[ui_prod]['quantity']=record[ui_prod]['quantity']-ui_quan\n",
        "  break\n",
        " else:\n",
        "  print(\"sorry!! the quantity of product available is:\"+str(record[ui_prod]['quantity']))\n",
        "  break"
      ],
      "execution_count": 33,
      "outputs": [
        {
          "output_type": "stream",
          "name": "stdout",
          "text": [
            "enter the product id:1002\n",
            "enter the quanity:25\n",
            "enter the name of the customer:harshi\n",
            "      mega mart      \n",
            "------------------------\n",
            "************************\n",
            "customer name:harshi\n",
            "Product: name bingo\n",
            "Quantity:25\n",
            "Prize:10\n",
            "--------------------------\n",
            "total amount :250\n",
            "----------------------------\n"
          ]
        }
      ]
    },
    {
      "cell_type": "code",
      "metadata": {
        "colab": {
          "base_uri": "https://localhost:8080/"
        },
        "id": "eTuWMiHs9kVV",
        "outputId": "38f8fdef-288a-4eec-f1e3-3838757b6575"
      },
      "source": [
        "ui_prod=input(\"enter the product id:\")\n",
        "ui_quan=int(input(\"enter the quanity:\"))\n",
        "\n",
        "\n",
        "for x,y in record[ui_prod].items():\n",
        " if(ui_prod>str(1000) and ui_prod<str(1031)):\n",
        "  cus_name=input(\"enter the name of the customer:\")\n",
        "  print(\"      mega mart      \")\n",
        "  print(\"------------------------\")\n",
        "  print(\"************************\")\n",
        "  print(\"customer name:\"+cus_name)\n",
        "  print('Product:',x,y)\n",
        "  print('Quantity:'+str(ui_quan))\n",
        "  print('Prize:'+str(record[ui_prod]['Rs']))\n",
        "  print(\"--------------------------\")\n",
        "  total=(record[ui_prod]['Rs']*ui_quan)\n",
        "  print(\"total amount :\"+str(total))\n",
        "  print(\"----------------------------\")\n",
        "  record[ui_prod]['quantity']=record[ui_prod]['quantity']-ui_quan\n",
        "  break\n",
        " else:\n",
        "  print(\"sorry!! the quantity of product available is:\"+str(record[ui_prod]['quantity']))\n",
        "  break"
      ],
      "execution_count": 35,
      "outputs": [
        {
          "output_type": "stream",
          "name": "stdout",
          "text": [
            "enter the product id:1003\n",
            "enter the quanity:25\n",
            "enter the name of the customer:rashmi\n",
            "      mega mart      \n",
            "------------------------\n",
            "************************\n",
            "customer name:rashmi\n",
            "Product: name kit kat\n",
            "Quantity:25\n",
            "Prize:10\n",
            "--------------------------\n",
            "total amount :250\n",
            "----------------------------\n"
          ]
        }
      ]
    },
    {
      "cell_type": "markdown",
      "metadata": {
        "id": "rJ8EwxlJ8Wae"
      },
      "source": [
        "**CHANGE IN QUANTITY AFTER PURCHASING OF ITEM**"
      ]
    },
    {
      "cell_type": "code",
      "metadata": {
        "colab": {
          "base_uri": "https://localhost:8080/"
        },
        "id": "YG5OXGfe5o2i",
        "outputId": "9f2f11b2-9bde-4939-a301-4549a9e7df2e"
      },
      "source": [
        "record"
      ],
      "execution_count": 36,
      "outputs": [
        {
          "output_type": "execute_result",
          "data": {
            "text/plain": [
              "{'1001': {'Rs': 10, 'exp': '02/22', 'name': 'lays', 'quantity': 50},\n",
              " '1002': {'Rs': 10, 'exp': '02/22', 'name': 'bingo', 'quantity': 23},\n",
              " '1003': {'Rs': 10, 'exp': '02/22', 'name': 'kit kat', 'quantity': 25},\n",
              " '1004': {'Rs': 10, 'exp': '02/22', 'name': 'bar one', 'quantity': 50},\n",
              " '1005': {'Rs': 10, 'exp': '02/22', 'name': 'kurkure', 'quantity': 50},\n",
              " '1006': {'Rs': 10, 'exp': '02/22', 'name': 'munch', 'quantity': 50},\n",
              " '1007': {'Rs': 10, 'exp': '02/22', 'name': 'preak', 'quantity': 50},\n",
              " '1008': {'Rs': 10, 'exp': '02/22', 'name': 'dairy milk', 'quantity': 50},\n",
              " '1009': {'Rs': 100,\n",
              "  'exp': '02/22',\n",
              "  'name': 'dairy milk silk',\n",
              "  'quantity': 50},\n",
              " '1010': {'Rs': 40,\n",
              "  'exp': '02/22',\n",
              "  'name': 'dairy milk crackle',\n",
              "  'quantity': 50},\n",
              " '1011': {'Rs': 20, 'exp': '02/22', 'name': 'tomato', 'quantity': 50},\n",
              " '1012': {'Rs': 30, 'exp': '02/22', 'name': 'onion', 'quantity': 50},\n",
              " '1013': {'Rs': 30, 'exp': '02/22', 'name': 'potato', 'quantity': 50},\n",
              " '1014': {'Rs': 10, 'exp': '02/22', 'name': 'cabbage', 'quantity': 50},\n",
              " '1015': {'Rs': 100, 'exp': '02/22', 'name': 'nail polish', 'quantity': 50},\n",
              " '1016': {'Rs': 10, 'exp': '02/22', 'name': 'mint leaves', 'quantity': 50},\n",
              " '1017': {'Rs': 20, 'exp': '02/22', 'name': 'salt', 'quantity': 50},\n",
              " '1018': {'Rs': 60, 'exp': '02/22', 'name': 'sugar', 'quantity': 50},\n",
              " '1019': {'Rs': 5, 'exp': '02/22', 'name': 'lemon', 'quantity': 50},\n",
              " '1020': {'Rs': 100, 'exp': '02/22', 'name': 'apple', 'quantity': 50},\n",
              " '1021': {'Rs': 100, 'exp': '02/22', 'name': 'mango', 'quantity': 50},\n",
              " '1022': {'Rs': 50, 'exp': '02/22', 'name': 'pine apple', 'quantity': 50},\n",
              " '1023': {'Rs': 50, 'exp': '02/22', 'name': 'jack fruit', 'quantity': 50},\n",
              " '1024': {'Rs': 100, 'exp': '02/22', 'name': 'orange', 'quantity': 50},\n",
              " '1025': {'Rs': 10, 'exp': '02/22', 'name': 'baby corn', 'quantity': 50},\n",
              " '1026': {'Rs': 10, 'exp': '02/22', 'name': 'sweet corn', 'quantity': 50},\n",
              " '1027': {'Rs': 50, 'exp': '02/22', 'name': 'rice', 'quantity': 50},\n",
              " '1028': {'Rs': 50, 'exp': '02/22', 'name': 'wheat', 'quantity': 50},\n",
              " '1029': {'Rs': 40, 'exp': '02/22', 'name': 'madia', 'quantity': 50},\n",
              " '1030': {'Rs': 10, 'exp': '02/22', 'name': 'tic tac', 'quantity': 50}}"
            ]
          },
          "metadata": {},
          "execution_count": 36
        }
      ]
    },
    {
      "cell_type": "code",
      "metadata": {
        "id": "X5IYV_qk2U4y"
      },
      "source": [
        "js=json.dumps(record)\n",
        "fd=open(\"record.json\",'w')\n",
        "fd.write(js)\n",
        "fd.close()"
      ],
      "execution_count": 32,
      "outputs": []
    },
    {
      "cell_type": "code",
      "metadata": {
        "id": "Zh7Dzwb429dL"
      },
      "source": [
        "fd=open(\"record.json\",'r')\n",
        "txt=fd.read()\n",
        "fd.close()"
      ],
      "execution_count": 25,
      "outputs": []
    },
    {
      "cell_type": "code",
      "metadata": {
        "colab": {
          "base_uri": "https://localhost:8080/",
          "height": 324
        },
        "id": "o2T0fofh3NtD",
        "outputId": "c4836b66-caba-4828-cc93-d4ccba4a12b5"
      },
      "source": [
        "txt"
      ],
      "execution_count": 29,
      "outputs": [
        {
          "output_type": "execute_result",
          "data": {
            "application/vnd.google.colaboratory.intrinsic+json": {
              "type": "string"
            },
            "text/plain": [
              "'{\"1001\": {\"name\": \"lays\", \"exp\": \"02/22\", \"Rs\": 10, \"quantity\": 50}, \"1002\": {\"name\": \"bingo\", \"exp\": \"02/22\", \"Rs\": 10, \"quantity\": 50}, \"1003\": {\"name\": \"kit kat\", \"exp\": \"02/22\", \"Rs\": 10, \"quantity\": 50}, \"1004\": {\"name\": \"bar one\", \"exp\": \"02/22\", \"Rs\": 10, \"quantity\": 50}, \"1005\": {\"name\": \"kurkure\", \"exp\": \"02/22\", \"Rs\": 10, \"quantity\": 50}, \"1006\": {\"name\": \"munch\", \"exp\": \"02/22\", \"Rs\": 10, \"quantity\": 50}, \"1007\": {\"name\": \"preak\", \"exp\": \"02/22\", \"Rs\": 10, \"quantity\": 50}, \"1008\": {\"name\": \"dairy milk\", \"exp\": \"02/22\", \"Rs\": 10, \"quantity\": 50}, \"1009\": {\"name\": \"dairy milk silk\", \"exp\": \"02/22\", \"Rs\": 100, \"quantity\": 50}, \"1010\": {\"name\": \"dairy milk crackle\", \"exp\": \"02/22\", \"Rs\": 40, \"quantity\": 50}, \"1011\": {\"name\": \"tomato\", \"exp\": \"02/22\", \"Rs\": 20, \"quantity\": 50}, \"1012\": {\"name\": \"onion\", \"exp\": \"02/22\", \"Rs\": 30, \"quantity\": 50}, \"1013\": {\"name\": \"potato\", \"exp\": \"02/22\", \"Rs\": 30, \"quantity\": 50}, \"1014\": {\"name\": \"cabbage\", \"exp\": \"02/22\", \"Rs\": 10, \"quantity\": 50}, \"1015\": {\"name\": \"nail polish\", \"exp\": \"02/22\", \"Rs\": 100, \"quantity\": 50}, \"1016\": {\"name\": \"mint leaves\", \"exp\": \"02/22\", \"Rs\": 10, \"quantity\": 50}, \"1017\": {\"name\": \"salt\", \"exp\": \"02/22\", \"Rs\": 20, \"quantity\": 50}, \"1018\": {\"name\": \"sugar\", \"exp\": \"02/22\", \"Rs\": 60, \"quantity\": 50}, \"1019\": {\"name\": \"lemon\", \"exp\": \"02/22\", \"Rs\": 5, \"quantity\": 50}, \"1020\": {\"name\": \"apple\", \"exp\": \"02/22\", \"Rs\": 100, \"quantity\": 50}, \"1021\": {\"name\": \"mango\", \"exp\": \"02/22\", \"Rs\": 100, \"quantity\": 50}, \"1022\": {\"name\": \"pine apple\", \"exp\": \"02/22\", \"Rs\": 50, \"quantity\": 50}, \"1023\": {\"name\": \"jack fruit\", \"exp\": \"02/22\", \"Rs\": 50, \"quantity\": 50}, \"1024\": {\"name\": \"orange\", \"exp\": \"02/22\", \"Rs\": 100, \"quantity\": 50}, \"1025\": {\"name\": \"baby corn\", \"exp\": \"02/22\", \"Rs\": 10, \"quantity\": 50}, \"1026\": {\"name\": \"sweet corn\", \"exp\": \"02/22\", \"Rs\": 10, \"quantity\": 50}, \"1027\": {\"name\": \"rice\", \"exp\": \"02/22\", \"Rs\": 50, \"quantity\": 50}, \"1028\": {\"name\": \"wheat\", \"exp\": \"02/22\", \"Rs\": 50, \"quantity\": 50}, \"1029\": {\"name\": \"madia\", \"exp\": \"02/22\", \"Rs\": 40, \"quantity\": 50}, \"1030\": {\"name\": \"tic tac\", \"exp\": \"02/22\", \"Rs\": 10, \"quantity\": 50}}'"
            ]
          },
          "metadata": {},
          "execution_count": 29
        }
      ]
    },
    {
      "cell_type": "markdown",
      "metadata": {
        "id": "KfP50zJAHgdo"
      },
      "source": [
        "**SALES**\n"
      ]
    },
    {
      "cell_type": "code",
      "metadata": {
        "id": "D5N3K45DC0lQ"
      },
      "source": [
        "import json"
      ],
      "execution_count": 58,
      "outputs": []
    },
    {
      "cell_type": "code",
      "metadata": {
        "id": "058JcmEmC7Ja"
      },
      "source": [
        "fd=open(\"sales.json\",'r')\n",
        "txt=fd.read()\n",
        "fd.close()"
      ],
      "execution_count": 59,
      "outputs": []
    },
    {
      "cell_type": "code",
      "metadata": {
        "id": "FoMzUVU8DBX9"
      },
      "source": [
        "sales=json.loads(txt)"
      ],
      "execution_count": 60,
      "outputs": []
    },
    {
      "cell_type": "code",
      "metadata": {
        "colab": {
          "base_uri": "https://localhost:8080/"
        },
        "id": "r3MDjtOFDGHR",
        "outputId": "bcb82bdd-ba01-4439-d3d0-7788b3f8b7af"
      },
      "source": [
        "{'prod' :ui_prod,'quantity' :ui_quan ,'amount' :record[ui_prod]['Rs']*ui_quan}"
      ],
      "execution_count": 51,
      "outputs": [
        {
          "output_type": "execute_result",
          "data": {
            "text/plain": [
              "{'amount': 250, 'prod': '1003', 'quantity': 25}"
            ]
          },
          "metadata": {},
          "execution_count": 51
        }
      ]
    },
    {
      "cell_type": "code",
      "metadata": {
        "id": "PLn-M3RSFsq6"
      },
      "source": [
        "sales={1:{'prod' :ui_prod,'quantity' :ui_quan ,'amount' :record[ui_prod]['Rs']*ui_quan},\n",
        "       2:{'prod' :ui_prod,'quantity' :ui_quan ,'amount' :record[ui_prod]['Rs']*ui_quan},\n",
        "       3:{'prod' :ui_prod,'quantity' :ui_quan ,'amount' :record[ui_prod]['Rs']*ui_quan}}"
      ],
      "execution_count": 52,
      "outputs": []
    },
    {
      "cell_type": "code",
      "metadata": {
        "colab": {
          "base_uri": "https://localhost:8080/",
          "height": 52
        },
        "id": "eKow02-mF7Jz",
        "outputId": "c7999971-4817-4914-89aa-a8b4e8716fcf"
      },
      "source": [
        "json.dumps(sales)"
      ],
      "execution_count": 53,
      "outputs": [
        {
          "output_type": "execute_result",
          "data": {
            "application/vnd.google.colaboratory.intrinsic+json": {
              "type": "string"
            },
            "text/plain": [
              "'{\"1\": {\"prod\": \"1003\", \"quantity\": 25, \"amount\": 250}, \"2\": {\"prod\": \"1003\", \"quantity\": 25, \"amount\": 250}, \"3\": {\"prod\": \"1003\", \"quantity\": 25, \"amount\": 250}}'"
            ]
          },
          "metadata": {},
          "execution_count": 53
        }
      ]
    },
    {
      "cell_type": "code",
      "metadata": {
        "colab": {
          "base_uri": "https://localhost:8080/"
        },
        "id": "3oZH-qHaF_iV",
        "outputId": "ae7f81cb-0b49-461c-b90c-c26c82b9268b"
      },
      "source": [
        "{(len(sales)+1):{'prod' :ui_prod,'quantity' :ui_quan ,'amount' :record[ui_prod]['Rs']*ui_quan}}"
      ],
      "execution_count": 55,
      "outputs": [
        {
          "output_type": "execute_result",
          "data": {
            "text/plain": [
              "{4: {'amount': 250, 'prod': '1003', 'quantity': 25}}"
            ]
          },
          "metadata": {},
          "execution_count": 55
        }
      ]
    },
    {
      "cell_type": "code",
      "metadata": {
        "id": "Gd0dMVYGGNNP"
      },
      "source": [
        "sales[(len(sales)+1)]={'prod' :ui_prod,'quantity' :ui_quan ,'amount' :record[ui_prod]['Rs']*ui_quan}"
      ],
      "execution_count": 56,
      "outputs": []
    },
    {
      "cell_type": "code",
      "metadata": {
        "colab": {
          "base_uri": "https://localhost:8080/"
        },
        "id": "81BbhXNyGXNo",
        "outputId": "f1495264-1a86-4d7c-c7f2-20012f197558"
      },
      "source": [
        "sales"
      ],
      "execution_count": 68,
      "outputs": [
        {
          "output_type": "execute_result",
          "data": {
            "text/plain": [
              "{1: {'amount': 250, 'prod': '1003', 'quantity': 25},\n",
              " 2: {'amount': 250, 'prod': '1003', 'quantity': 25},\n",
              " 3: {'amount': 250, 'prod': '1003', 'quantity': 25},\n",
              " 4: {'amount': 250, 'prod': '1003', 'quantity': 25}}"
            ]
          },
          "metadata": {},
          "execution_count": 68
        }
      ]
    },
    {
      "cell_type": "code",
      "metadata": {
        "colab": {
          "base_uri": "https://localhost:8080/"
        },
        "id": "QxME91bfJc3e",
        "outputId": "ad3c8828-0046-47cb-aba9-e335bbd4e383"
      },
      "source": [
        "{'prod' :ui_prod,'quantity' :ui_quan ,'amount' :record[ui_prod]['Rs']*ui_quan}"
      ],
      "execution_count": 69,
      "outputs": [
        {
          "output_type": "execute_result",
          "data": {
            "text/plain": [
              "{'amount': 250, 'prod': '1003', 'quantity': 25}"
            ]
          },
          "metadata": {},
          "execution_count": 69
        }
      ]
    },
    {
      "cell_type": "code",
      "metadata": {
        "id": "pXmNnLGyJi-n"
      },
      "source": [
        "sales={1:{'prod' :ui_prod,'quantity' :ui_quan ,'amount' :record[ui_prod]['Rs']*ui_quan},\n",
        "       2:{'prod' :ui_prod,'quantity' :ui_quan ,'amount' :record[ui_prod]['Rs']*ui_quan},\n",
        "       3:{'prod' :ui_prod,'quantity' :ui_quan ,'amount' :record[ui_prod]['Rs']*ui_quan}}"
      ],
      "execution_count": 70,
      "outputs": []
    },
    {
      "cell_type": "code",
      "metadata": {
        "id": "k_yXHCWpJolU"
      },
      "source": [
        "sale=json.dumps(sales)"
      ],
      "execution_count": 71,
      "outputs": []
    },
    {
      "cell_type": "code",
      "metadata": {
        "colab": {
          "base_uri": "https://localhost:8080/"
        },
        "id": "1TzDXF6gJtW2",
        "outputId": "143537e0-6d51-4a7a-baf6-bcc28217812d"
      },
      "source": [
        "{(len(sales)+1):{'prod' :ui_prod,'quantity' :ui_quan ,'amount' :record[ui_prod]['Rs']*ui_quan}}"
      ],
      "execution_count": 72,
      "outputs": [
        {
          "output_type": "execute_result",
          "data": {
            "text/plain": [
              "{4: {'amount': 250, 'prod': '1003', 'quantity': 25}}"
            ]
          },
          "metadata": {},
          "execution_count": 72
        }
      ]
    },
    {
      "cell_type": "code",
      "metadata": {
        "id": "whOmoUOfJxUU"
      },
      "source": [
        "sales[(len(sales)+1)]={'prod' :ui_prod,'quantity' :ui_quan ,'amount' :record[ui_prod]['Rs']*ui_quan}"
      ],
      "execution_count": 66,
      "outputs": []
    },
    {
      "cell_type": "code",
      "metadata": {
        "colab": {
          "base_uri": "https://localhost:8080/"
        },
        "id": "AMfrgXjAJ15u",
        "outputId": "ce1fc11b-b4eb-4a6b-a85f-84ea72fc404a"
      },
      "source": [
        "sales"
      ],
      "execution_count": 67,
      "outputs": [
        {
          "output_type": "execute_result",
          "data": {
            "text/plain": [
              "{1: {'amount': 250, 'prod': '1003', 'quantity': 25},\n",
              " 2: {'amount': 250, 'prod': '1003', 'quantity': 25},\n",
              " 3: {'amount': 250, 'prod': '1003', 'quantity': 25},\n",
              " 4: {'amount': 250, 'prod': '1003', 'quantity': 25}}"
            ]
          },
          "metadata": {},
          "execution_count": 67
        }
      ]
    },
    {
      "cell_type": "code",
      "metadata": {
        "id": "fnSVNRSjHXUc"
      },
      "source": [
        "fd=open(\"sales.json\",'w')\n",
        "txt=fd.write(sale)\n",
        "fd.close()"
      ],
      "execution_count": 76,
      "outputs": []
    }
  ]
}